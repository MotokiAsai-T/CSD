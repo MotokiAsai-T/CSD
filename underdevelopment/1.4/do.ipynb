{
 "cells": [
  {
   "cell_type": "code",
   "execution_count": 1,
   "id": "37545985-271e-461d-b8e7-45385dc56a80",
   "metadata": {},
   "outputs": [
    {
     "name": "stdout",
     "output_type": "stream",
     "text": [
      "開始時刻: 2024-12-26 16:46:07.273333\n",
      "1 回目:\n"
     ]
    },
    {
     "name": "stderr",
     "output_type": "stream",
     "text": [
      "C:\\Users\\Asai.DESKTOP_AKA_LAB\\Downloads\\B4\\Study\\Research\\programing code\\CSD_graduattion_thesis\\CSD_completion\\calculate_MC.py:66: RuntimeWarning: overflow encountered in exp\n",
      "  val = exp(-theta_p*(t[s_index,r_outside_idx]  + t[r_outside_idx, s__outside_index2] - v[r_inside_idx, s_inside_idx2] + mu_sd_prev[s_inside_idx2, d_idx]))\n",
      "C:\\Users\\Asai.DESKTOP_AKA_LAB\\Downloads\\B4\\Study\\Research\\programing code\\CSD_graduattion_thesis\\CSD_completion\\calculate_MC.py:79: RuntimeWarning: overflow encountered in exp\n",
      "  P_sd_rs_curr[r_inside_idx, s_inside_idx2, s_idx, d_idx] = exp(-theta_p*(t[s_index,r_outside_idx] + t[r_outside_idx,s__outside_index2] - v[r_inside_idx, s_inside_idx2] + mu_sd_prev[s_inside_idx2,d_idx]))*inv_Z\n",
      "C:\\Users\\Asai.DESKTOP_AKA_LAB\\Downloads\\B4\\Study\\Research\\programing code\\CSD_graduattion_thesis\\CSD_completion\\calculate_MC.py:79: RuntimeWarning: invalid value encountered in scalar multiply\n",
      "  P_sd_rs_curr[r_inside_idx, s_inside_idx2, s_idx, d_idx] = exp(-theta_p*(t[s_index,r_outside_idx] + t[r_outside_idx,s__outside_index2] - v[r_inside_idx, s_inside_idx2] + mu_sd_prev[s_inside_idx2,d_idx]))*inv_Z\n",
      "C:\\Users\\Asai.DESKTOP_AKA_LAB\\Downloads\\B4\\Study\\Research\\programing code\\CSD_graduattion_thesis\\CSD_completion\\calculate_MC.py:157: RuntimeWarning: invalid value encountered in scalar multiply\n",
      "  P_od_rs[r_inside_idx, s_inside_idx, o_idx, d_idx] = exp(-theta_p*(t[o_index,r_outside_index]+t[r_outside_index,s_outside_index2]-v[r_inside_idx,s_inside_idx]+mu_sd_last[s_inside_idx,d_idx]))*inv_Z\n",
      "C:\\Users\\Asai.DESKTOP_AKA_LAB\\Downloads\\B4\\Study\\Research\\programing code\\CSD_graduattion_thesis\\CSD_completion\\calculate_MC.py:146: RuntimeWarning: overflow encountered in exp\n",
      "  sum_tot += exp(-theta_p*(t[o_index,r_outside_index]+t[r_outside_index,s_index2]-v[r_inside_idx,s_inside_idx]+mu_sd_last[s_inside_idx,d_idx]))\n",
      "C:\\Users\\Asai.DESKTOP_AKA_LAB\\Downloads\\B4\\Study\\Research\\programing code\\CSD_graduattion_thesis\\CSD_completion\\calculate_MC.py:157: RuntimeWarning: overflow encountered in exp\n",
      "  P_od_rs[r_inside_idx, s_inside_idx, o_idx, d_idx] = exp(-theta_p*(t[o_index,r_outside_index]+t[r_outside_index,s_outside_index2]-v[r_inside_idx,s_inside_idx]+mu_sd_last[s_inside_idx,d_idx]))*inv_Z\n"
     ]
    },
    {
     "name": "stdout",
     "output_type": "stream",
     "text": [
      "Converged in 291 iterations.\n",
      "Time: 278.18026 seconds\n",
      "\n",
      "\n",
      "2 回目:\n",
      "Converged in 432 iterations.\n",
      "Time: 398.80937 seconds\n",
      "\n",
      "\n",
      "3 回目:\n",
      "Converged in 269 iterations.\n",
      "Time: 259.32786 seconds\n",
      "\n",
      "\n",
      "4 回目:\n",
      "Converged in 466 iterations.\n",
      "Time: 429.20046 seconds\n",
      "\n",
      "\n",
      "5 回目:\n",
      "Converged in 164 iterations.\n",
      "Time: 173.91459 seconds\n",
      "\n",
      "\n",
      "6 回目:\n",
      "Converged in 357 iterations.\n",
      "Time: 332.46088 seconds\n",
      "\n",
      "\n",
      "7 回目:\n",
      "Converged in 502 iterations.\n",
      "Time: 458.49858 seconds\n",
      "\n",
      "\n",
      "8 回目:\n"
     ]
    },
    {
     "name": "stderr",
     "output_type": "stream",
     "text": [
      "C:\\Users\\Asai.DESKTOP_AKA_LAB\\Downloads\\B4\\Study\\Research\\programing code\\CSD_graduattion_thesis\\CSD_completion\\calculate_MC.py:146: RuntimeWarning: overflow encountered in scalar add\n",
      "  sum_tot += exp(-theta_p*(t[o_index,r_outside_index]+t[r_outside_index,s_index2]-v[r_inside_idx,s_inside_idx]+mu_sd_last[s_inside_idx,d_idx]))\n"
     ]
    },
    {
     "name": "stdout",
     "output_type": "stream",
     "text": [
      "Converged in 262 iterations.\n",
      "Time: 256.03839 seconds\n",
      "\n",
      "\n",
      "9 回目:\n",
      "Converged in 288 iterations.\n",
      "Time: 275.71418 seconds\n",
      "\n",
      "\n",
      "10 回目:\n",
      "Converged in 423 iterations.\n",
      "Time: 390.02974 seconds\n",
      "\n",
      "\n",
      "time_list: [278.18025923 398.80937099 259.32786489 429.200459   173.91458607\n",
      " 332.46088243 458.49858332 256.03838944 275.71417832 390.02974343]\n",
      "average time: 325.2174317121506\n",
      "Max time: 458.498583316803\n",
      "min time: 173.9145860671997\n",
      "\n",
      "終了時間: 2024-12-26 17:40:19.449643\n",
      "全体実行時間: 0:54:12.176310\n"
     ]
    }
   ],
   "source": [
    "from main import main \n",
    "import time\n",
    "from datetime import datetime\n",
    "import numpy as np\n",
    "\n",
    "times = 10\n",
    "time_list = np.zeros(times)\n",
    "start__time = datetime.now()\n",
    "print(\"開始時刻:\", start__time)\n",
    "for i in range(times):\n",
    "    if __name__ == \"__main__\":        \n",
    "        print(i+1,\"回目:\")\n",
    "        time_list[i] = main()\n",
    "        print(\"\\n\")\n",
    "        i += 1\n",
    "\n",
    "print(\"time_list:\", time_list)\n",
    "print(\"average time:\", sum(time_list)/times)\n",
    "print(\"Max time:\", max(time_list))\n",
    "print(\"min time:\", min(time_list))\n",
    "\n",
    "print()\n",
    "end__time = datetime.now()\n",
    "print(\"終了時間:\", end__time)\n",
    "print(\"全体実行時間:\", end__time - start__time)"
   ]
  }
 ],
 "metadata": {
  "kernelspec": {
   "display_name": "Python 3 (ipykernel)",
   "language": "python",
   "name": "python3"
  },
  "language_info": {
   "codemirror_mode": {
    "name": "ipython",
    "version": 3
   },
   "file_extension": ".py",
   "mimetype": "text/x-python",
   "name": "python",
   "nbconvert_exporter": "python",
   "pygments_lexer": "ipython3",
   "version": "3.11.7"
  }
 },
 "nbformat": 4,
 "nbformat_minor": 5
}
